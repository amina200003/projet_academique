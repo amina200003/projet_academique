{
 "cells": [
  {
   "cell_type": "code",
   "execution_count": 1,
   "id": "52440d94-f7c8-42c5-9130-bb70cf63af3c",
   "metadata": {},
   "outputs": [],
   "source": [
    "#import \n",
    "import glob\n",
    "import re\n",
    "import spacy \n",
    "from bs4 import BeautifulSoup\n",
    "import json\n",
    "from collections import Counter\n",
    "import matplotlib.pyplot as plt"
   ]
  },
  {
   "cell_type": "code",
   "execution_count": 2,
   "id": "845e0b16-89f6-4a35-b985-3ec49d8a4a54",
   "metadata": {},
   "outputs": [],
   "source": [
    "def lirefich(chemin): \n",
    "    '''cette fonction permet de lire un fichier txt, output: string''' \n",
    "    with open(chemin , \"r\", encoding = \"utf−8\") as f:\n",
    "        chaine = f.read()\n",
    "    return chaine\n",
    "\n",
    "def tokenisation(chaine):\n",
    "    ''' decouper une chaine de caractere en mot pour des txt en alphabet latin'''\n",
    "    liste_mots = re.findall(r\"[a-zA-ZÀ-ÿ][a-zA-ZÀ-ÿ-]*\", chaine.lower())  \n",
    "    return liste_mots\n",
    "    \n",
    "def tokenisation_spacy(txt_spacy):\n",
    "    ''' cette fonction réalise une tokenisation avec l'outil spacy '''\n",
    "    token=[]\n",
    "    for mot in txt_spacy:\n",
    "        token.append(mot.text)\n",
    "    return token\n",
    "\n",
    "def ecrire_json(chemin, contenu):\n",
    "    with open(chemin , \"w\", encoding = \"utf−8\") as f:\n",
    "        json.dump(contenu,f, indent=2,ensure_ascii=False)\n",
    "\n",
    "def dico_effec(liste_mots):\n",
    "    '''input: liste de mot, output:donne un dico {mot:effec_relative...}'''\n",
    "    compt_mots = Counter()\n",
    "    compt_mots.update(liste_mots)  #maj frequence\n",
    "    return compt_mots\n",
    "\n",
    "def lire_json(chemin):\n",
    "    with open(chemin , \"r\", encoding = \"utf−8\") as f:\n",
    "        file_j=json.load(f)\n",
    "    return file_j\n",
    "\n",
    "def enlever_nombre(texte):\n",
    "    texte_sans_nombres = re.sub(r'\\d+', '', texte)\n",
    "    return texte_sans_nombres\n",
    "\n",
    "def update_vocabulaire (mots , vocabulaire ):\n",
    "    dejavu = vocabulaire.intersection (mots)\n",
    "    nouveau = mots.difference( vocabulaire )\n",
    "    for x in mots :\n",
    "        vocabulaire .add(x)\n",
    "    return vocabulaire , dejavu , nouveau"
   ]
  },
  {
   "cell_type": "raw",
   "id": "5526fbd8-b028-405f-9cf6-d2e79a14adfc",
   "metadata": {},
   "source": [
    "2. Tokénisation"
   ]
  },
  {
   "cell_type": "code",
   "execution_count": 5,
   "id": "a6101e13-77be-4f3f-8089-aabf4c474977",
   "metadata": {},
   "outputs": [
    {
     "name": "stdout",
     "output_type": "stream",
     "text": [
      "Différence entre tokenisation simple et avancée : {'adorateur,', 'dépit,', 'Angleterre,', 'Seldorf', 'Les', 'roman,', 'Adolphe,', 'Cela', \"d'Adolphe,\", 'Menneraye', 'envoyés.', 'raconte.', \"qu'en\", 'elle,', 'choisit,', ':', \"d'un\", 'jeune,', \"qu'Ellénore\", 'flattant,', 'histoire.', 'sincères.', 'jolie.', 'Menneraye,', 'époux.', \"l'amitié\", 'généreux,', \"d'une\", 'Dans', 'existence.', 'aimée,', 'Ses', 'amour,', 'Mais', 'Ellénore', 'amour.', 'Frédérick', 'reconnaître,', \"qu'il\", 'CONCLUSION', 'M.', 'lui,', 'maison,', \"l'esprit\"} ce set contient 44 mots\n",
      "--------------------\n",
      "Différence entre tokenisation simple et SpaCy : {'adorateur,', 'dépit,', 'Angleterre,', 'Adolphe,', 'roman,', \"d'Adolphe,\", 'envoyés.', 'raconte.', \"qu'en\", 'elle,', 'choisit,', \"d'un\", 'jeune,', 'très-honorable', \"qu'Ellénore\", 'flattant,', 'histoire.', 'sincères.', 'jolie.', 'Menneraye,', 'époux.', \"l'amitié\", 'généreux,', \"d'une\", 'existence.', 'aimée,', 'amour,', 'amour.', 'reconnaître,', \"qu'il\", 'lui,', 'maison,', \"l'esprit\"} ce set contient 33 mots\n",
      "--------------------\n",
      "Similarité entre tokenisation simple et avancée : {'assez', 'valu', 'billets', 'tout', 'passer', 'fille', 'point', 'épousa', 'était', 'madame', 'avait', 'besoin', 'avec', 'simple', 'ayant', 'par', 'mourir', 'écrit', 'fournirent', 'en', 'dans', 'furent', 'laissant', 'premier', 'part', 'ne', 'de', 'nous', 'famille', 'comtesse', 'un', 'délicieux', 'retourna', 'pouvait', 'où', 'à', 'son', 'titre', 'accueilli', 'pour', 'ferveur', 'bien', 'très-honorable', 'fut', 'toute', 'éducation', 'se', 'fortune', 'que', 'parler', 'lui', 'laissa', 'une', 'persuadé', 'regrets', 'souvenir', 'le', 'celle', 'supérieur', 'plus', 'a', 'la', 'et', 'jeune', 'il', 'grande', 'sans', 'comme', 'légitime', 'faire', 'pas', 'les', 'fait', 'dont', 'spirituelle', 'sa', 'est'} ce set contient 77 mots\n",
      "--------------------\n",
      "Similarité entre tokenisation simple et SpaCy : {'assez', 'Seldorf', 'Les', 'valu', 'billets', 'tout', 'passer', 'fille', 'point', 'épousa', 'Dans', 'était', 'madame', 'avait', 'CONCLUSION', 'besoin', 'avec', 'simple', 'ayant', 'par', 'mourir', 'écrit', 'fournirent', 'en', 'dans', 'furent', 'laissant', 'premier', 'part', 'ne', 'de', 'nous', 'famille', 'comtesse', 'Ses', 'Mais', 'un', 'délicieux', 'retourna', 'pouvait', 'où', 'à', 'son', 'titre', 'accueilli', 'Menneraye', 'pour', 'ferveur', ':', 'bien', 'fut', 'toute', 'éducation', 'se', 'fortune', 'que', 'parler', 'lui', 'laissa', 'une', 'persuadé', 'regrets', 'souvenir', 'le', 'celle', 'Cela', 'supérieur', 'plus', 'a', 'la', 'et', 'jeune', 'il', 'grande', 'sans', 'comme', 'légitime', 'faire', 'pas', 'les', 'Ellénore', 'Frédérick', 'fait', 'M.', 'dont', 'spirituelle', 'sa', 'est'} ce set contient 88 mots\n",
      "--------------------\n",
      "Mots présents uniquement dans la tokenisation simple (par rapport à la tokenisation avancée) :\n",
      "{'adorateur,', 'dépit,', 'Angleterre,', 'Seldorf', 'Les', 'roman,', 'Adolphe,', 'Cela', \"d'Adolphe,\", 'Menneraye', 'envoyés.', 'raconte.', \"qu'en\", 'elle,', 'choisit,', ':', \"d'un\", 'jeune,', \"qu'Ellénore\", 'flattant,', 'histoire.', 'sincères.', 'jolie.', 'Menneraye,', 'époux.', \"l'amitié\", 'généreux,', \"d'une\", 'Dans', 'existence.', 'aimée,', 'Ses', 'amour,', 'Mais', 'Ellénore', 'amour.', 'Frédérick', 'reconnaître,', \"qu'il\", 'CONCLUSION', 'M.', 'lui,', 'maison,', \"l'esprit\"}\n",
      "Nombre de mots uniques : 44\n",
      "--------------------\n",
      "Mots présents uniquement dans la tokenisation simple (par rapport à SpaCy) :\n",
      "{'adorateur,', 'dépit,', 'Angleterre,', 'Adolphe,', 'roman,', \"d'Adolphe,\", 'envoyés.', 'raconte.', \"qu'en\", 'elle,', 'choisit,', \"d'un\", 'jeune,', 'très-honorable', \"qu'Ellénore\", 'flattant,', 'histoire.', 'sincères.', 'jolie.', 'Menneraye,', 'époux.', \"l'amitié\", 'généreux,', \"d'une\", 'existence.', 'aimée,', 'amour,', 'amour.', 'reconnaître,', \"qu'il\", 'lui,', 'maison,', \"l'esprit\"}\n",
      "Nombre de mots uniques : 33\n",
      "--------------------\n",
      "Mots présents uniquement dans la tokenisation avancée (et pas dans la simple) :\n",
      "{'raconte', 'ellénore', 'mais', 'époux', 'dépit', 'flattant', 'jolie', 'ses', 'généreux', 'd', 'conclusion', 'm', 'menneraye', 'l', 'adolphe', 'frédérick', 'maison', 'seldorf', 'aimée', 'roman', 'angleterre', 'adorateur', 'qu', 'esprit', 'amitié', 'cela', 'envoyés', 'elle', 'choisit', 'reconnaître', 'sincères', 'histoire', 'amour', 'existence'}\n",
      "Nombre de mots uniques : 34\n",
      "--------------------\n",
      "Mots présents uniquement dans la tokenisation SpaCy (et pas dans la simple) :\n",
      "{'raconte', 'époux', 'dépit', 'flattant', '\\n', 'honorable', 'jolie', 'généreux', 'très', \"l'\", 'Angleterre', 'aimée', 'maison', 'roman', \"qu'\", \"d'\", ',', 'adorateur', 'Adolphe', 'esprit', 'amitié', 'envoyés', '.', '-', 'elle', 'choisit', 'reconnaître', 'sincères', 'histoire', 'amour', 'existence'}\n",
      "Nombre de mots uniques : 31\n",
      "--------------------\n"
     ]
    }
   ],
   "source": [
    "nlp= spacy.load(\"fr_core_news_sm\")\n",
    "#TOKENISATION\n",
    "\n",
    "\n",
    "path_19es= \"ELTeC-fr/T1/*\"\n",
    "path_20es= \"ELTeC-fr/T2/*\"\n",
    "\n",
    "for chem in glob.glob(path_19es):\n",
    "    xml19= lirefich(chem)\n",
    "    soup = BeautifulSoup ( xml19, \"xml\")\n",
    "    for cpt_txt , d in enumerate(soup.find_all (\"div\", type=\"chapter\")):\n",
    "        texte19 = d.text\n",
    "token_simple19= texte19.split()\n",
    "token_avance19= tokenisation(texte19)\n",
    "token_spacy19= tokenisation_spacy(nlp(texte19))\n",
    "\n",
    "\n",
    "mot_different1= set(token_simple19).difference(set(token_avance19))\n",
    "mot_different2= set(token_simple19).difference(set(token_spacy19))\n",
    "mot_commun1=set(token_simple19).intersection(set(token_avance19))\n",
    "mot_commun2= set(token_simple19).intersection(set(token_spacy19))\n",
    "mot_different3 = set(token_avance19).difference(set(token_simple19))\n",
    "mot_different4 = set(token_spacy19).difference(set(token_simple19))\n",
    "\n",
    "\n",
    "print(\"Différence entre tokenisation simple et avancée :\",mot_different1, \"ce set contient\", len(mot_different1),\"mots\")\n",
    "print(\"-\"*20)\n",
    "print(\"Différence entre tokenisation simple et SpaCy :\",mot_different2, \"ce set contient\", len(mot_different2),\"mots\") \n",
    "print(\"-\"*20)\n",
    "print(\"Similarité entre tokenisation simple et avancée :\",mot_commun1, \"ce set contient\", len(mot_commun1),\"mots\")\n",
    "print(\"-\"*20)\n",
    "print(\"Similarité entre tokenisation simple et SpaCy :\",mot_commun2, \"ce set contient\", len(mot_commun2),\"mots\")\n",
    "\n",
    "print(\"-\" * 20)\n",
    "print(\"Mots présents uniquement dans la tokenisation simple (par rapport à la tokenisation avancée) :\")\n",
    "print(mot_different1)\n",
    "print(f\"Nombre de mots uniques : {len(mot_different1)}\")\n",
    "print(\"-\" * 20)\n",
    "\n",
    "print(\"Mots présents uniquement dans la tokenisation simple (par rapport à SpaCy) :\")\n",
    "print(mot_different2)\n",
    "print(f\"Nombre de mots uniques : {len(mot_different2)}\")\n",
    "print(\"-\" * 20)\n",
    "\n",
    "print(\"Mots présents uniquement dans la tokenisation avancée (et pas dans la simple) :\")\n",
    "print(mot_different3)\n",
    "print(f\"Nombre de mots uniques : {len(mot_different3)}\")\n",
    "print(\"-\" * 20)\n",
    "\n",
    "print(\"Mots présents uniquement dans la tokenisation SpaCy (et pas dans la simple) :\")\n",
    "print(mot_different4)\n",
    "print(f\"Nombre de mots uniques : {len(mot_different4)}\")\n",
    "print(\"-\" * 20)"
   ]
  },
  {
   "cell_type": "raw",
   "id": "7264e25f-6ffe-422e-9373-552783bde6c9",
   "metadata": {},
   "source": [
    "Analyse graphique des résultats de la tokénisation"
   ]
  },
  {
   "cell_type": "code",
   "execution_count": 9,
   "id": "948bc6c1-2ca6-4122-9228-cfea393b66fa",
   "metadata": {},
   "outputs": [
    {
     "data": {
      "image/png": "[encoded data removed]",
      "text/plain": [
       "<Figure size 640x480 with 1 Axes>"
      ]
     },
     "metadata": {},
     "output_type": "display_data"
    }
   ],
   "source": [
    "valeurs = [154, 161, 194]\n",
    "noms = [\"tokénisation simple\", 'tokénisation avancée', 'tokenisation spacy'] \n",
    "\n",
    "plt.bar(noms, valeurs, color=['blue', 'green', 'red'])\n",
    "\n",
    "\n",
    "plt.xlabel(\"types de tokénisation\")\n",
    "plt.ylabel(\"Valeurs\")\n",
    "plt.title(\"Comparaison des différents types de tokénisation \")\n",
    "\n",
    "plt.savefig(\"comparaison_methode_token\")\n",
    "plt.show()"
   ]
  },
  {
   "cell_type": "raw",
   "id": "1e83b84e-31b5-4e9a-b948-262c4a773baa",
   "metadata": {},
   "source": [
    "3.1 Création d’un vocabulaire avec les fichiers T1"
   ]
  },
  {
   "cell_type": "code",
   "execution_count": 7,
   "id": "c42b2390-f8f1-4815-920a-21480a668efd",
   "metadata": {},
   "outputs": [
    {
     "name": "stdout",
     "output_type": "stream",
     "text": [
      "Taille T1 Vocab : 121 types\n"
     ]
    }
   ],
   "source": [
    "#Création d'un vocabulaire avec T1\n",
    "\n",
    "path_T1= \"ELTeC-fr/T1/*\"\n",
    "dic_T1_vocab = {}\n",
    "for path_fichier in glob.glob(path_T1) :\n",
    "    #print(path_fichier)\n",
    "    xml_doc = lirefich(path_fichier)\n",
    "    soup = BeautifulSoup(xml_doc, 'xml')\n",
    "\n",
    "    for cpt, d in enumerate(soup.find_all(\"div\", type =\"chapter\")):\n",
    "        texte = d.text\n",
    "        #print(texte[:20])\n",
    "        liste_mots = texte.split()\n",
    "        #print(liste_mots[:10])\n",
    "        dic_T1_vocab= dico_effec(liste_mots)\n",
    "             \n",
    "#print(dic_T1_vocab)\n",
    "ecrire_json(\"./frequence_mots_T1.json\",dic_T1_vocab)\n",
    "set_mots_T1 = list(set(dic_T1_vocab.keys()))\n",
    "\n",
    "print(\"Taille T1 Vocab : %i types\"%len(set_mots_T1))\n",
    "ecrire_json(\"./vocabulaire_T1_%s.json\"%cpt, set_mots_T1)"
   ]
  },
  {
   "cell_type": "markdown",
   "id": "00bb0d31-488b-496a-980a-9a357bbd16d2",
   "metadata": {},
   "source": [
    "3.2 Utiliser le Glaff : Un Gros Lexique à tout Faire du Français"
   ]
  },
  {
   "cell_type": "code",
   "execution_count": 8,
   "id": "5cf26950-6b1a-4536-972a-ec3e09ee11d4",
   "metadata": {},
   "outputs": [
    {
     "name": "stdout",
     "output_type": "stream",
     "text": [
      "Taille Glaff : 1082688 types\n"
     ]
    }
   ],
   "source": [
    "\n",
    "\n",
    "with open(\"GLAFF-1.2.2/glaff-1.2.2.txt\", encoding = \"utf-8\") as f :\n",
    "    ligne = f.readline()\n",
    "    cpt = 0\n",
    "    dic_glaff = {}\n",
    "    while len(ligne) > 0 :\n",
    "        cpt += 1\n",
    "        elems = re.split(r\"\\|\", re.sub(\"\\n\", \"\", ligne))\n",
    "        freq = 0\n",
    "        forme = elems[0]\n",
    "        for index in range(6, len(elems)+1, 2) :\n",
    "            freq += float(elems[index])\n",
    "        dic_glaff[forme] = freq\n",
    "        ligne = f.readline()\n",
    "\n",
    "\n",
    "\n",
    "\n",
    "ecrire_json(\"./freq_glaff_%i.json\"%cpt, dic_glaff)\n",
    "set_mots_glaff = set(dic_glaff.keys())\n",
    "print(\"Taille Glaff : %i types\"%len(set_mots_glaff))"
   ]
  },
  {
   "cell_type": "markdown",
   "id": "6faa6521-cb89-4d09-a4a6-9ed62b55fec8",
   "metadata": {},
   "source": [
    "3.3 Reconnaissance d’entités nommées au format IOB"
   ]
  },
  {
   "cell_type": "code",
   "execution_count": 9,
   "id": "5230dc44-4c84-4284-b07c-b3ca5e667fda",
   "metadata": {},
   "outputs": [
    {
     "name": "stdout",
     "output_type": "stream",
     "text": [
      "Temps d'exécution : 11.27 secondes\n"
     ]
    }
   ],
   "source": [
    "import time\n",
    "\n",
    "nlp_lg = spacy.load(\"fr_core_news_lg\")\n",
    "liste_entitesnom = []\n",
    "liste_mots = []\n",
    "\n",
    "start_time = time.time() #mesurer le temps d'exécution\n",
    "\n",
    "soup = BeautifulSoup(xml_doc, 'xml')\n",
    "for cpt, d in enumerate(soup.find_all(\"div\", type = \"chapter\")):\n",
    "    texte = d.text\n",
    "    doc = nlp_lg(texte)\n",
    "    i = 0\n",
    "    for e in doc :\n",
    "        if doc[i].ent_iob_ != \"0\" :\n",
    "            liste_entitesnom.append([doc[i].text, doc[i].ent_iob_, doc[i].ent_type_])\n",
    "        else :\n",
    "            liste_mots.append(doc[i].text)\n",
    "        i = i + 1\n",
    "\n",
    "    if cpt == 10 :\n",
    "        break\n",
    "\n",
    "#Temps d'exécution\n",
    "end_time = time.time()\n",
    "execution_time = end_time - start_time\n",
    "\n",
    "print(f\"Temps d'exécution : {execution_time:.2f} secondes\")\n",
    "\n",
    "#print(\"_\"*20)\n",
    "#print(\"Liste des entités nommées trouvées dans le texte : \", liste_entitesnom) ##Que remarquez-vous ?\n",
    "#print(\"_\"*20)\n",
    "#print(\"Liste des noms communs trouvés dans le texte : \", liste_mots) ##Que remarquez-vous ?\n",
    "#print(\"_\"*20)\n",
    "\n",
    "# Sauvegarde des résultats au format .bio\n",
    "nom_fichier_sortie = \"sortie.bio\"\n",
    "with open(nom_fichier_sortie, \"w\", encoding=\"utf-8\") as f:\n",
    "    for entite in liste_entitesnom:\n",
    "        f.write(f\"{entite[0]} {entite[1]} {entite[2]}\\n\")\n",
    "    for mot in liste_mots:\n",
    "        f.write(f\"{mot} O\\n\")\n",
    "\n",
    "#print(\"Les résultats ont été sauvegardés dans\", nom_fichier_sortie)\n",
    "          "
   ]
  },
  {
   "cell_type": "markdown",
   "id": "15801e02-6f11-4f0c-ba6f-cf6ce6c39aae",
   "metadata": {},
   "source": [
    "3.4 Trouver les neologismes"
   ]
  },
  {
   "cell_type": "code",
   "execution_count": 10,
   "id": "fc101bba-477a-423d-a58a-64f8201b7e16",
   "metadata": {},
   "outputs": [
    {
     "name": "stdout",
     "output_type": "stream",
     "text": [
      "Cas 3 : ['augustinergasse', 'austrasie', 'aux', 'berthe', 'c', 'cage-de-fer', 'carinthie', 'cigaine', 'corfou', 'd', 'ethel', 'eux', 'forêt-noire', 'ghiska', 'gisèle', 'hofburg', 'karl', 'l', 'lefébure', 'léopold-ferdinand', 'm', 'magnus', 'marie-sylvie', 'matin-là', 'mlle', 'myrrha', 'n', 'neustadt', 'petit-jeannot', 'peut-être', 'porte-de-fer', 'quant', 'rossi', 'rynaldo', 'régina', 's', 'serait-il', 'stella', 'tania', 'édouard']\n"
     ]
    }
   ],
   "source": [
    "set_neo_00 = set()\n",
    "set_neo_01= set()\n",
    "set_noms_propres = set()\n",
    "mots_absents_maj = []\n",
    "mots_absents_min = []\n",
    "dico_glaff = lire_json (\"freq_glaff_1406857.json\")\n",
    "set_mots_glaff =set(dico_glaff.keys())\n",
    "\n",
    "for path_fichier2 in glob.glob(path_20es):\n",
    "    #print( path_fichier2 )\n",
    "    xml_doc = lirefich(path_fichier2 )\n",
    "    soup = BeautifulSoup ( xml_doc , \"xml\")\n",
    "    for cpt , d in enumerate(soup.find_all (\"div\", type=\"chapter\")):\n",
    "        texte1 = d.text\n",
    "        juste_mots = enlever_nombre(texte1)\n",
    "        mots_tok = tokenisation(juste_mots)\n",
    "\n",
    "        #Cas 00 : les most absents du vocabulaire T1\n",
    "        mots_absents = set(mots_tok).difference(set_mots_T1 )\n",
    "        prop_absents = len( mots_absents )/len(set(mots_tok ))\n",
    "        set_neo_00.update( mots_absents )\n",
    "        for mot in mots_tok :\n",
    "            if mot[0].islower()== False:\n",
    "                mots_absents_maj.append(mot)\n",
    "            else:\n",
    "                mots_absents_min.append(mot)\n",
    "        #Cas 1 : Les mots absents du vocabulaire T1 commencant par une minuscule\n",
    "        dans_T1 = set( mots_absents_min ).difference( set_mots_T1 )\n",
    "        set_neo_01.update( dans_T1 )\n",
    "\n",
    "        #Cas 2 : Détection des noms propres\n",
    "        noms_propres = set(mots_absents_min).difference(set_mots_T1)\n",
    "        set_noms_propres.update(noms_propres)\n",
    "        candidats = mots_absents.difference(noms_propres)  # Exclure les noms propres des néologismes\n",
    "\n",
    "        #Cas 3 : Les mots absents du Glaff\n",
    "        mots_absents_glaff = set(mots_tok).difference(set_mots_glaff)\n",
    "        set_neo_02 = mots_absents_glaff\n",
    "\n",
    "        #Cas 4 : Les mots absents du Glaff commençant par une minuscule\n",
    "        mots_absents_glaff_min = set(\n",
    "            mot for mot in mots_absents_glaff if mot[0].islower()\n",
    "        )\n",
    "        set_neo_03 = mots_absents_glaff_min\n",
    "\n",
    "# Affichage des résultats\n",
    "# print(\"Cas 0\",sorted(list(set_neo_00)))\n",
    "# print(\"Cas 1 :\", sorted(list(set_neo_01)))\n",
    "# print(\"-\" * 20)\n",
    "# print(\"Cas 2 :\", sorted(list(set_noms_propres)))\n",
    "# print(\"-\" * 20)\n",
    "#print(\"Cas 3 :\", sorted(list(set_neo_02)))\n",
    "# print(\"-\" * 20)\n",
    "# print(\"Cas 4 :\", sorted(list(set_neo_03)))\n",
    "\n",
    "#CAS 2 ET 3 SONT IDENTIQUE + AUCUN NOM PROPRE"
   ]
  },
  {
   "cell_type": "raw",
   "id": "fa1a259e-2047-4bde-9583-8c8769edc335",
   "metadata": {},
   "source": [
    "Comparaison des néologisme du XXe S; par rapport au nombre total de mot dans le Glaff"
   ]
  },
  {
   "cell_type": "code",
   "execution_count": 31,
   "id": "203c46e2-bea2-4565-b321-825e42836cc9",
   "metadata": {},
   "outputs": [
    {
     "data": {
      "image/png": "[encoded data removed]",
      "text/plain": [
       "<Figure size 640x480 with 1 Axes>"
      ]
     },
     "metadata": {},
     "output_type": "display_data"
    }
   ],
   "source": [
    "\n",
    "\n",
    "voc_total_glaff= len(dico_glaff.keys())\n",
    "#print(len(voc_total_glaff)) 1082688\n",
    "\n",
    "liste_neo= list(set_neo_02)\n",
    "long_neo= len(liste_neo)\n",
    "#print(long_neo) 40\n",
    "\n",
    "categories = [\"Néologismes XXe s.\", \"GLAFF\"]\n",
    "valeurs = [40, 1082688]\n",
    "\n",
    "\n",
    "plt.bar(categories, valeurs, color=[\"blue\", \"green\"])\n",
    "\n",
    "\n",
    "plt.ylabel(\"Nombre de mots\")\n",
    "plt.title(\"Proportion des néologismes du XXe siècle dans le GLAFF\")\n",
    "\n",
    "\n",
    "plt.yscale(\"log\")  # Échelle logarithmique pour mieux voir la différence\n",
    "plt.savefig(\"pie_chart_glaff.png\")\n",
    "plt.show()\n"
   ]
  },
  {
   "cell_type": "raw",
   "id": "199e5454-11fe-42e7-ba9a-d187fb063f3e",
   "metadata": {},
   "source": [
    "Comparaison des néologisme du XX e siècle et du XIXe siècle"
   ]
  },
  {
   "cell_type": "code",
   "execution_count": 36,
   "id": "f74cb323-39b4-431e-90f3-45741ad3e9b3",
   "metadata": {},
   "outputs": [
    {
     "data": {
      "image/png": "[encoded data removed]",
      "text/plain": [
       "<Figure size 640x480 with 1 Axes>"
      ]
     },
     "metadata": {},
     "output_type": "display_data"
    }
   ],
   "source": [
    "mot_19= len(set_mots_T1) #121\n",
    "neo_20= len(set_neo_01) #34079\n",
    "\n",
    "categories = [\"Néologismes XXe s.\", \"Mot du XIXe s.\"]\n",
    "valeurs1 = [34079, 121]\n",
    "\n",
    "\n",
    "plt.bar(categories, valeurs1, color=[\"blue\", \"green\"])\n",
    "\n",
    "\n",
    "plt.ylabel(\"Nombre de mots\")\n",
    "plt.title(\"Proportion des néologismes du XXe siècle par rapport au vocabulaire du XIX e siècle \")\n",
    "\n",
    "\n",
    "plt.yscale(\"log\")  # Échelle logarithmique pour mieux voir la différence\n",
    "plt.savefig(\"pie_chart_XX-XXI.png\")\n",
    "plt.show()\n"
   ]
  },
  {
   "cell_type": "raw",
   "id": "a25d99b3-5557-4e17-a2a4-2f42bf07fa14",
   "metadata": {},
   "source": [
    "Bonus"
   ]
  },
  {
   "cell_type": "code",
   "execution_count": 47,
   "id": "edeccbe5-0ca0-45fd-bc73-a64bb3096d59",
   "metadata": {},
   "outputs": [
    {
     "name": "stdout",
     "output_type": "stream",
     "text": [
      "({'famille', 'prince', 'petit-jeannot', 'équitation', 'amour.', 'tania', 'époux.', \"d'Adolphe,\", 'besoin', 'titre', 'éducation', 'tant', 'ciel', 'entre', 'maintenant', 'sincères.', 'a', 'matin-là', 'était', 'lui,', 'et', 'roman,', 'armes', 'mourir', 'mer', 'rein', 'souvenir', 'il', 'vers', 'destine', 'aventure', 'épousa', 'existence.', 'avait', 'genoux', 'navire', \"d'un\", 'péristyle', 'horizon', 'bourgeoisement', 'colonnes', 'elle', 'temps', 'un', 'm', 'ce', 'interrogent', 'simple', 'de', 'passer', 'léopold-ferdinand', 'qu', 'édouard', 'ferveur', 'ethel', 'en', 'appuient', 'sur', 'regardent', 'font', 'retourna', 'fournirent', 'soirs', 'comtesse', 'père', 'Dans', 'ses', 'dont', 'partie', 'aurore', 'grande', 'flattant,', 'augustinergasse', 'bohémienne', 'écrit', 'apparaît', 'pauvre', 'construire', 'où', 'dirigés', 'avaient', 'chez', 'avant', 'grandes', 'pour', 'Cela', 'héritier', 'encore', 'la', 'épilogue', 'monde', 'que', 'magnus', 'formidable', 'Ellénore', 'Menneraye,', 'demandant', 'amie', 'car', 'confiance', 'pardonné', 'carinthie', 'tous', 'amené', 'fut', 'rendre', 'marie-sylvie', 'Mais', 'incendie', 'couple', 'envoyés.', 'qui', 'ami', 'clos', 'forêt-noire', 'parler', 'clore', 'ont', 'dix', 'maison,', 'doit', 'tarots', 'dépit,', 'puisque', 'yeux', 'ma', 'amour', 'des', 'son', 'premier', 'laissant', 'triste', 'touchant', 'compagnie', 'couru', 'enfin', 'légué', 'quelques', 'autre', 'lève', 'reconnaître,', 'conduits', 'le', 'trouvée', 'Ses', 'Les', 'progrès', 'cette', \"qu'Ellénore\", 'jours', 'ne', 'mal', 'mise', 'billets', 'amis', 'héros', 'ni', 'attitude', 'fille', 'pensez', 'beaux', 'sont', 'elle,', 'CONCLUSION', 'peut-être', 'du', 'à', 'madame', 'matin', 'meilleure', 'séparerait', 'adorable', 'nouvelles', 'lefébure', 'peu', 'Menneraye', 'amours', 'aux', 'douce', 'heureux', 'toujours', 'secrète', 'berthe', 'on', 'cage-de-fer', 'regrets', 'dans', 'réconciliées', 'langueur', 'porte', 'se', 'filles', 'jeunesse', 'oublié', 'palais', 'adorateur,', 'jeune', 'sans', 'jeune,', 'voir', 'cigaine', 'karl', 'pouvoir', 'peut', 'vivent', 'pas', 'Seldorf', 'carrière', 'combien', 'force', 'toute', 'porte-de-fer', 'princesse', 'vous', 'petite', 'polychrome', 'reine', 'généreux,', 'par', 'amour,', 'donner', 'devenue', 'donc', 'rouge', 'accueilli', 'valu', 'choisit,', 'comme', 'fait', 'reconnu', 'sauvé', 'lequel', 'pu', 'M.', 'marbre', 'jour', 'concierge', 'Angleterre,', 'grâce', 'pouvait', 'haute', 'très-honorable', 'attend', 'légitime', 'est', \"qu'en\", 'mélancolique', 'périr', 'myrrha', 'élixirs', 'si', 'tôt', 'sabbat', 'fin', 'calme', 'empereur', 'Frédérick', 'bleus', 'position', 'sa', 'spirituelle', 'stella', 'impératrice', 'faire', 'femme', 'embrasser', 'délicieux', 'camarades', \"qu'il\", 'pleurait', 'raisonnable', 'serait-il', 'corfou', 'rynaldo', 'allés', 'jamais', 'histoire.', 'déclaré', 'morte', 'grands', 'vit', 'coutume', 'austrasie', 'celle', 'mlle', ':', 'quitter', 'nous', 'venir', 'une', 'puis', 'notre', 'ait', 'récit', 'régina', 'rossi', \"l'amitié\", 'devant', \"l'esprit\", 'habite', 'dolente', 'aimée,', 'quant', 'ayant', 'avec', 'n', 'entendu', 'supérieur', 'tour', 'heures', 'mais', 'soulagée', 'neustadt', 'ils', 'point', 'les', 'Adolphe,', 'bruit', 'assez', 'bataille', 'furent', 'd', 'hofburg', 'bien', 'gisèle', 'raconte.', 'tout', 'l', 'baumes', 'aperçoit', 'deux', 'part', 'plus', 'laissa', 'éprouvés', 'foi', 'ressuscitées', 'lui', 'fortune', 'bonheur', 'eux', 'bourgeoise', 's', \"d'une\", 'jolie.', 'lassitude', 'incognito', 'marié', 'beau', 'c', 'autres', 'somme', 'y', 'ghiska', 'persuadé'}, {'était', 'et', 'plus', 'son', 'se', 'par', 'avec', 'à', 'un', 'jeune', 'pour', 'lui', 'celle', 'sans', 'il', 'de', 'grande', 'point', 'parler', 'la', 'une', 'les', 'que', 'est', 'sa', 'fait', 'en', 'le', 'pas', 'bien', 'toute', 'tout', 'dans', 'où', 'a', 'ne'}, {'calme', 'avaient', 'prince', 'empereur', 'équitation', 'petit-jeannot', 'chez', 'meilleure', 'grandes', 'matin', 'avant', 'séparerait', 'bleus', 'tania', 'héritier', 'encore', 'adorable', 'position', 'épilogue', 'monde', 'nouvelles', 'magnus', 'lefébure', 'stella', 'peu', 'formidable', 'impératrice', 'amours', 'aux', 'femme', 'douce', 'tant', 'heureux', 'ciel', 'demandant', 'entre', 'toujours', 'embrasser', 'maintenant', 'amie', 'car', 'secrète', 'berthe', 'camarades', 'on', 'confiance', 'cage-de-fer', 'pleurait', 'raisonnable', 'pardonné', 'carinthie', 'tous', 'serait-il', 'matin-là', 'réconciliées', 'amené', 'corfou', 'rynaldo', 'armes', 'langueur', 'allés', 'porte', 'jamais', 'rendre', 'marie-sylvie', 'filles', 'jeunesse', 'oublié', 'mer', 'palais', 'déclaré', 'morte', 'rein', 'grands', 'vit', 'coutume', 'incendie', 'couple', 'austrasie', 'qui', 'ami', 'mlle', 'vers', 'quitter', 'venir', 'clos', 'destine', 'forêt-noire', 'puis', 'voir', 'aventure', 'cigaine', 'karl', 'genoux', 'navire', 'clore', 'notre', 'ait', 'pouvoir', 'ont', 'peut', 'vivent', 'carrière', 'récit', 'régina', 'dix', 'péristyle', 'combien', 'rossi', 'force', 'porte-de-fer', 'devant', 'doit', 'tarots', 'horizon', 'bourgeoisement', 'princesse', 'habite', 'dolente', 'vous', 'petite', 'polychrome', 'puisque', 'yeux', 'quant', 'colonnes', 'ma', 'amour', 'elle', 'des', 'temps', 'reine', 'm', 'n', 'ce', 'entendu', 'tour', 'donner', 'devenue', 'interrogent', 'triste', 'touchant', 'heures', 'compagnie', 'mais', 'donc', 'soulagée', 'ils', 'couru', 'neustadt', 'enfin', 'rouge', 'légué', 'quelques', 'léopold-ferdinand', 'bruit', 'autre', 'qu', 'édouard', 'ethel', 'lève', 'bataille', 'd', 'reconnu', 'trouvée', 'conduits', 'appuient', 'sauvé', 'sur', 'lequel', 'hofburg', 'pu', 'gisèle', 'regardent', 'font', 'marbre', 'soirs', 'progrès', 'l', 'cette', 'baumes', 'aperçoit', 'père', 'jours', 'jour', 'deux', 'mal', 'éprouvés', 'ses', 'foi', 'partie', 'concierge', 'mise', 'ressuscitées', 'grâce', 'aurore', 'haute', 'amis', 'héros', 'ni', 'attend', 'augustinergasse', 'bonheur', 'eux', 'bohémienne', 'bourgeoise', 's', 'mélancolique', 'attitude', 'apparaît', 'pauvre', 'périr', 'pensez', 'lassitude', 'incognito', 'beaux', 'sont', 'marié', 'beau', 'c', 'myrrha', 'élixirs', 'si', 'tôt', 'autres', 'sabbat', 'somme', 'peut-être', 'y', 'construire', 'fin', 'ghiska', 'dirigés', 'du'})\n"
     ]
    }
   ],
   "source": [
    "set_20es= set(mots_tok)\n",
    "set_19es= set(set_mots_T1)\n",
    "mise_a_jour= update_vocabulaire(set_20es,set_19es)\n",
    "print(mise_a_jour)"
   ]
  },
  {
   "cell_type": "code",
   "execution_count": null,
   "id": "a81f6143-2bbc-4297-8d7b-4f05be8f18d4",
   "metadata": {},
   "outputs": [],
   "source": []
  }
 ],
 "metadata": {
  "kernelspec": {
   "display_name": "Python 3 (ipykernel)",
   "language": "python",
   "name": "python3"
  },
  "language_info": {
   "codemirror_mode": {
    "name": "ipython",
    "version": 3
   },
   "file_extension": ".py",
   "mimetype": "text/x-python",
   "name": "python",
   "nbconvert_exporter": "python",
   "pygments_lexer": "ipython3",
   "version": "3.11.10"
  }
 },
 "nbformat": 4,
 "nbformat_minor": 5
}
