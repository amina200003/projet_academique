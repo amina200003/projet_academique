{
 "cells": [
  {
   "cell_type": "code",
   "execution_count": null,
   "metadata": {
    "id": "chtj7VMvM_EX"
   },
   "outputs": [],
   "source": [
    "import json\n",
    "import re"
   ]
  },
  {
   "cell_type": "code",
   "execution_count": null,
   "metadata": {
    "id": "XGQeCBriNA8l"
   },
   "outputs": [],
   "source": [
    "def write_json(contenu,chemin):\n",
    "     '''  cette fonction permet d'écrire des fichiers json\n",
    "    paramètre: -chemin\n",
    "                - contenu du fichier'''\n",
    "    with open(chemin,\"w\",encoding=\"utf-8\") as f:\n",
    "        json.dump(contenu,f,indent=4)\n",
    "\n",
    "def open_json(chemin):\n",
    "    '''  cette fonction permet d'ouvrir des fichiers json\n",
    "    paramètre: chemin'''\n",
    "    with open(chemin, encoding=\"utf-8\") as f:\n",
    "        fichier= json.load(f)\n",
    "    return fichier\n",
    "\n",
    "def find_figement(similarities_and_sent,seuil):\n",
    "    ''' Cette fonction permet de collecter touts les figements  à partir du moment où leurs mesures de similarité sont supérieur au seuil\n",
    "    paramètre: - liste contenant les mesures de similarité et les phrases\n",
    "                - seuil'''\n",
    "    figements=[]\n",
    "\n",
    "    for item in similarities_and_sent:\n",
    "        similarities,tweet= item\n",
    "        if all(similarities[key][0]>seuil for key in ['TOK', 'LEM', 'POS', 'meanLayer']):\n",
    "         figements.append(tweet)\n",
    "         figements= list(set(figements))\n",
    "    return figements\n",
    "\n",
    "def find_substitution_force(similarities_and_sent,expression_reg):\n",
    "    ''' Cette fonction permet de trouver toutes les substitions au sein du figement que la force soit avec toi\n",
    "    paramètre: - liste contenant les mesures de similarité et les phrases\n",
    "               - expression régulière pour trouver les substitutions'''\n",
    "    substitution=[]\n",
    "    regex= re.compile(expression_reg,re.IGNORECASE)\n",
    "    for simi, sent in similarities_and_sent:\n",
    "        match= regex.search(sent)\n",
    "        if match:\n",
    "            substitution.append(match.group(1)) #il y tjrs qlqs figements\n",
    "    substitution=[no_fige for no_fige in substitution if \"toi\" not in no_fige] #parfait\n",
    "    return list(set(substitution))\n",
    "\n",
    "def find_substitution_travail(similarities_and_sent,expression_reg):\n",
    "    ''' Cette fonction permet de trouver toutes les substitions au sein du figement travailler plus pour gagner plus\n",
    "    paramètre: - liste contenant les mesures de similarité et les phrases\n",
    "               - expression régulière pour trouver les substitutions'''\n",
    "    substitution=[]\n",
    "    regex= re.compile(expression_reg,re.IGNORECASE)\n",
    "    for simi, sent in similarities_and_sent:\n",
    "        match= regex.search(sent)\n",
    "        if match:\n",
    "            substitution.append(match.group(0))\n",
    "    return list(set(substitution))\n",
    "\n",
    "def find_insertion(similarities_and_sent,expression_reg):\n",
    "   ''' Cette fonction permet de trouver toutes les défigements de type insertion\n",
    "    paramètre: - liste contenant les mesures de similarité et les phrases\n",
    "               - expression régulière pour trouver les insertions'''\n",
    "    insert=[]\n",
    "    regex= re.compile(expression_reg, re.IGNORECASE)\n",
    "    for simi, sent in similarities_and_sent:\n",
    "        match= regex.search(sent)\n",
    "        if match:\n",
    "            insert.append(match.group(0))\n",
    "\n",
    "    return list(set(insert))"
   ]
  },
  {
   "cell_type": "code",
   "execution_count": null,
   "metadata": {
    "colab": {
     "background_save": true
    },
    "id": "9tn0URJUNHuC"
   },
   "outputs": [],
   "source": [
    "#MAIN\n",
    "la_force= open_json(\"Que_la_force_soit_avec_toi.json\")\n",
    "travail= open_json(\"Travailler_plus_pour_gagner_plus.json\")\n",
    "\n",
    "#CORPUS QUE LA FORCE SOIT AVEC TOI\n",
    "#recuperer les mesures de similarité et les tweet dans une liste\n",
    "similarities_and_sent_force=[]\n",
    "\n",
    "for elt in la_force:\n",
    "   similarities_and_sent_force.append([elt[\"similarities\"],elt[\"sent\"]])\n",
    "\n",
    "\n",
    "#collecter les figements grâce aux mesures de similarité\n",
    "seuil= 0.60\n",
    "figements_force= find_figement(similarities_and_sent_force, seuil)\n",
    "\n",
    "# trouver toutes les substitutions de type que la force soit avec X (au lieu de toi)\n",
    "substitutions_force= find_substitution_force(similarities_and_sent_force,r\"(que la force soit avec (?!toi\\b)[\\w@\\'’\\- ]+)\")\n",
    "\n",
    "#trouver les insertion\n",
    "insertion_force= find_insertion(similarities_and_sent_force,r\"que la force \\w{1,6} soit avec toi\")\n",
    "\n",
    "\n",
    "#enregistrer d les resulats dans un fichier json\n",
    "resultat= {\"figement\":figements_force, \"substitution\":substitutions_force, \"insertion\": insertion_force}\n",
    "\n",
    "\n",
    "write_json(resultat,\"resulat_que_la_force_soit_avec_toi.json\")\n",
    "\n",
    "\n",
    "\n",
    "# CORPUS TRAVAILLER PLUS POUR GAGNER PLUS\n",
    "similarities_and_sent_travail=[]\n",
    "seuil2= 0.70\n",
    "for elt in travail:\n",
    "   similarities_and_sent_travail.append([elt[\"similarities\"],elt[\"sent\"]])\n",
    "figements_travail= find_figement(similarities_and_sent_travail, seuil2)\n",
    "\n",
    "substitution_travail= find_substitution_travail(similarities_and_sent_travail,r\"travailler \\w{5} pour gagner \\w{5,10}\")\n",
    "\n",
    "insertion_travail=find_insertion(similarities_and_sent_travail,r\"travailler \\w{1,6} plus pour gagner \\w{1,6} plus\" )\n",
    "\n",
    "resultat2= resultat= {\"figement\":figements_travail, \"substitution\":substitution_travail, \"insertion\": insertion_travail}\n",
    "\n",
    "write_json(resultat2, \"resultat_travailler_plus_pr_gagner_plus.json\")\n"
   ]
  },
  {
   "cell_type": "code",
   "execution_count": null,
   "metadata": {
    "colab": {
     "base_uri": "https://localhost:8080/"
    },
    "id": "I3OzG0l0ngUu",
    "outputId": "6b5d66ba-bd16-461a-9347-2d6027e86a1a"
   },
   "outputs": [],
   "source": []
  }
 ],
 "metadata": {
  "colab": {
   "provenance": []
  },
  "kernelspec": {
   "display_name": "Python 3",
   "name": "python3"
  },
  "language_info": {
   "name": "python"
  }
 },
 "nbformat": 4,
 "nbformat_minor": 0
}
